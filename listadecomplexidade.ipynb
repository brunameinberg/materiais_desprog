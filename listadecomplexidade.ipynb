{
 "cells": [
  {
   "cell_type": "markdown",
   "metadata": {},
   "source": [
    "# Lista de complexidade"
   ]
  },
  {
   "cell_type": "markdown",
   "metadata": {},
   "source": [
    "### 1)"
   ]
  },
  {
   "cell_type": "markdown",
   "metadata": {},
   "source": [
    "```\n",
    "void questao1(int n){ \n",
    "    for (int i = 5; i < n; i += 4){ \n",
    "        for (int j = 2; j < i; j += 3){ \n",
    "            printf(\"questao 1 \\n\"); \n",
    "        } \n",
    "    } \n",
    "}\n",
    "```"
   ]
  },
  {
   "cell_type": "markdown",
   "metadata": {},
   "source": [
    "### Passo A: Estimar as iterações do loop externo em função de n:\n",
    "\n",
    "Quantidade de iterações do loop externo (x):\n",
    "\n",
    "Contador começa de 5 e aumenta em 4 enquanto for menor que n.\n",
    "\n",
    "Depois de x-1 iterações, a condição ainda vale \\ \n",
    "5 + 4(x - 1) < n \\\n",
    "5 + 4x - 4 < n \\\n",
    "4x + 1 < n \\\n",
    "x < (n - 1)/4 \\\n",
    "\n",
    "x = O(n), ou seja, x <= c_x n\n",
    "\n",
    "### Passo B: estimar as iterações do loop interno em função de i:\n",
    "\n",
    "Quantidade de iterações do loop interno (y):\n",
    "\n",
    "Contador começa de 2 e aumenta em 3 enquanto for menor que i.\n",
    "\n",
    "Depois de y-1 iterações, a condição ainda vale \\ \n",
    "2 + 3(y - 1) < i \\\n",
    "2 + 3y - 3 < i \\\n",
    "3y - 1 < i \\\n",
    "y < (i + 1)/3 \\\n",
    "\n",
    "y = O(i), ou seja, y <= c_y i\n",
    "\n",
    "### Passo C: Listar os valores de i em cada iteração do loop externo\n",
    "\n",
    "A quantidade de valores é **sempre** x e o último valor é **sempre** dado pela mesma fórmula usada no Passo A.\n",
    "\n",
    "Valores de i ao longo do loop externo:\n",
    "i = 5, 9, 13, ....., 5 + 4(x - 1)\n",
    "\n",
    "### Passo D: Juntar os passos B e C. O número de elementos da soma é **sempre** x\n",
    "\n",
    "Limitante para as iterações de todas as execuções do loop interno:\n",
    "c_y (5 + 9 + 13 + ... + (5 + 4(x - 1)))  \\\n",
    "= c_y (5 + 9 + 13 + ... + (4x + 1)) \n",
    "\n",
    "\n",
    "Soma de PA\n",
    "- primeiro elemento 5\n",
    "- último elemento 4x+1\n",
    "- número de elementos x\n",
    "\n",
    "\n",
    "= c_y (5 + 4x + 1) (x / 2) \\\n",
    "= c_y (4x + 6) (x / 2) \\\n",
    "= c_y (2x + 3) x \\\n",
    "= c_y (2x² + 3x) \n",
    "\n",
    "### Passo E: Usar o Passo A e as regras de simplificação para chegar na estimativa final\n",
    "\n",
    "Como x <= c_x n, pelas regras de simplificação podemos concluir que a complexidade é O(n²)\n",
    "\n",
    "\n"
   ]
  },
  {
   "cell_type": "markdown",
   "metadata": {},
   "source": [
    "# 2)"
   ]
  },
  {
   "cell_type": "markdown",
   "metadata": {},
   "source": [
    "```\n",
    "void questao2(int n){ \n",
    "    for (int i = 3; i < n; i += 4){ \n",
    "        for (int j = 2; j < i; j *= 5){ \n",
    "            printf(\"questao 2 \\n\"); \n",
    "        } \n",
    "    } \n",
    "}\n",
    "```"
   ]
  },
  {
   "cell_type": "markdown",
   "metadata": {},
   "source": [
    "### Passo A: Estimar as iterações do loop externo em função de n:\n",
    "\n",
    "Quantidade de iterações do loop externo (x):\n",
    "\n",
    "Contador começa de 3 e aumenta em 4 enquanto for menor que n.\n",
    "\n",
    "Depois de x-1 iterações, a condição ainda vale \\ \n",
    "3 + 4(x - 1) < n \\\n",
    "3 + 4x - 4 < n \\\n",
    "4x - 1 < n \\\n",
    "x < (n + 1)/4 \n",
    "\n",
    "x = O(n), ou seja, x <= c_x n\n",
    "\n",
    "### Passo B: estimar as iterações do loop interno em função de i:\n",
    "\n",
    "Quantidade de iterações do loop interno (y):\n",
    "\n",
    "Contador começa de 2 e multiplica por 5 enquanto for menor que i.\n",
    "\n",
    "Depois de y-1 iterações, a condição ainda vale \\ \n",
    "2 * 5^(y - 1) < i \\\n",
    "5^(y - 1) < i / 2 \\\n",
    "y - 1 < log5(i / 2) \\\n",
    "y < log5(i / 2) + 1 \n",
    "\n",
    "y = O(log i), ou seja, y <= c_y log i\n",
    "\n",
    "### Passo C: Listar os valores de i em cada iteração do loop externo\n",
    "\n",
    "Valores de i ao longo do loop externo:\n",
    "i = 3, 7, 11, ..., 3 + 4(x - 1)\n",
    "\n",
    "### Passo D: Juntar os passos B e C. O número de elementos da soma é **sempre** x\n",
    "\n",
    "Limitante para as iterações de todas as execuções do loop interno:\n",
    "c_y (log 3 + log 7 + log 11 + ... + log (3 + 4(x - 1)))  \\\n",
    "= c_y (log 3 + log 7 + log 11 + ... + log (4x - 1)) \n",
    "\n",
    "\n",
    "Soma de logaritmos de PA\n",
    "- primeiro elemento log 3\n",
    "- último elemento log (4x-1)\n",
    "- número de elementos x\n",
    "\n",
    "\n",
    "= c_y (log 3 + log(4x - 1)) (x / 2) \\\n",
    "= c_y log (3(4x - 1)) (x / 2) \\\n",
    "= c_y log (12x - 3) (x / 2) \\\n",
    "= c_y 1/2 log (12x - 3) x \n",
    "\n",
    "\n",
    "### Passo E: Usar o Passo A e as regras de simplificação para chegar na estimativa final\n",
    "\n",
    "Como x <= c_x n, pelas regras de simplificação podemos concluir que a complexidade é O(n log n)\n"
   ]
  },
  {
   "cell_type": "markdown",
   "metadata": {},
   "source": [
    "# 3)"
   ]
  },
  {
   "cell_type": "markdown",
   "metadata": {},
   "source": [
    "```\n",
    "void questao3(int n){\n",
    "    if( n<= 5){\n",
    "        return;\n",
    "    }\n",
    "    printf(\"questao3\\n\");\n",
    "    questao3(n-4);\n",
    "}\n",
    "```"
   ]
  }
 ],
 "metadata": {
  "language_info": {
   "name": "python"
  },
  "orig_nbformat": 4
 },
 "nbformat": 4,
 "nbformat_minor": 2
}
