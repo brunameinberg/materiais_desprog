{
 "cells": [
  {
   "cell_type": "markdown",
   "metadata": {},
   "source": [
    "# Implementação de Pilhas e Filas com Vetor\n",
    "\n",
    "## Pilhas\n",
    "- Comportamento LIFO (\"Last in, First out\"): Quando um elemento é retirado, ele é obrigatoriamente o último que foi inserido\n",
    "\n",
    "## Filas\n",
    "- Comportamento FIFO(\"First in, First out\"): Quando um elemento é retirado, ele é obrigatoriamente o primeiro que foi inserido"
   ]
  },
  {
   "cell_type": "markdown",
   "metadata": {},
   "source": [
    "### Checkpoint 1\n",
    "Como sempre, vamos começar verificando se você está acordado. Suponha que uma pilha começa vazia e que fazemos nela as seguintes operações, nessa ordem:"
   ]
  },
  {
   "cell_type": "markdown",
   "metadata": {},
   "source": [
    "\n",
    "\n",
    "operação:           pilha depois da operação:\n",
    "\n",
    "insere 5;           5\n",
    "\n",
    "remove;\n",
    "\n",
    "insere 4;           4\n",
    "\n",
    "insere 6;           4, 6\n",
    "\n",
    "remove;             4\n",
    "\n",
    "insere 3;           4, 3\n",
    "\n",
    "remove;             4\n",
    "\n",
    "remove.\n",
    "\n",
    "Elementos removidos: 5, 6, 3, 4"
   ]
  },
  {
   "cell_type": "markdown",
   "metadata": {},
   "source": [
    "### Checkpoint 2"
   ]
  },
  {
   "cell_type": "markdown",
   "metadata": {},
   "source": [
    "Vetores tem tamanho fixo!!"
   ]
  },
  {
   "cell_type": "markdown",
   "metadata": {},
   "source": [
    "Podemos simular um comportamento de pilha com restrições sobre o que podemos fazer com o vetor. Em particular, podemos dividir o vetor em uma “parte válida” e uma “parte inválida”: a primeira representa os elementos armazenados na pilha, enquanto a segunda é considerada apenas lixo de memória. Inserir um elemento na pilha significa aumentar a “parte válida” e diminuir a “parte inválida”, enquanto remover um elemento da pilha significa diminuir a “parte válida” e aumentar a “parte inválida”.\n",
    "\n",
    "Tamanho do vetor -> capacidade da pilha\n",
    "Tamanho da pilha -> Quantidade de elementos na parte válida"
   ]
  },
  {
   "cell_type": "markdown",
   "metadata": {},
   "source": [
    "### Checkpoint 3\n",
    "\n",
    "Considere a proposta de estabelecer a ponta esquerda (índice 0 do vetor) como topo. Do ponto de vista de eficiência, qual é o problema dessa proposta?\n",
    "\n",
    "Lembre que a “parte válida” não pode ter “buracos”, ou seja, a ideia é que os elementos da pilha sempre estejam “espremidos” na parte esquerda.\n",
    "\n"
   ]
  },
  {
   "cell_type": "markdown",
   "metadata": {},
   "source": [
    "O problema é que o início do vetor sempre vai mudar"
   ]
  },
  {
   "cell_type": "markdown",
   "metadata": {},
   "source": [
    "## Implementando uma pilha a partir de um vetor\n",
    "\n",
    "Em termos de programação, em particular orientada a objetos, a implementação acima define três atributos,\n",
    "\n",
    "- um inteiro que representa a capacidade;\n",
    "\n",
    "- um vetor que representa os dados;\n",
    "\n",
    "- um inteiro que representa o tamanho,\n",
    "\n",
    "e dois métodos:\n",
    "\n",
    "- receber um elemento e inserir (push);\n",
    "\n",
    "- remover o último elemento inserido e devolver (pop).\n",
    "\n",
    "Para completar essa implementação, vamos adicionar outros dois métodos:\n",
    "\n",
    "- verificar se está vazia (empty);\n",
    "\n",
    "- verificar se está cheia (full).\n",
    "\n",
    "Mas como podemos traduzir essa implementação para C, que não é orientada a objetos? Como podemos declarar atributos e definir métodos se C não tem o conceito de classes?\n",
    "\n",
    "Atributos, vá lá."
   ]
  },
  {
   "cell_type": "markdown",
   "metadata": {},
   "source": [
    "``` \n",
    "// Criamos um struct com capacidade, dados e tamanho.\n",
    "\n",
    "struct _stack_int {\n",
    "    int capacity;\n",
    "    int *data; // Isso é um vetor. A explicação foi ou será dada em HardSoft.\n",
    "    int size;\n",
    "};\n",
    "\n",
    "// Damos um \"apelido\" ao struct. O typedef abaixo permite\n",
    "// declarar \"stack_int s\" em vez de \"struct _stack_int s\".\n",
    "\n",
    "typedef struct _stack_int stack_int; ´´´ \n"
   ]
  },
  {
   "cell_type": "markdown",
   "metadata": {},
   "source": [
    "data é vetor de inteiros, ou seja, esse tipo representa especificamente uma pilha que armazena inteiros. Por isso demos o nome stack_int em vez de simplesmente stack.\n",
    "\n",
    "Um struct não é uma classe, então não podemos simplesmente definir funções dentro dele. O jeito é improvisar! Em vez de métodos “de verdade”, vamos criar funções padronizadas, nas quais o primeiro parâmetro é sempre um apontador para uma variável do tipo stack_int."
   ]
  },
  {
   "cell_type": "markdown",
   "metadata": {},
   "source": [
    "Funções:\n",
    "\n",
    "```\n",
    "int stack_int_empty(stack_int *s);\n",
    "int stack_int_full(stack_int *s);\n",
    "void stack_int_push(stack_int *s, int value);\n",
    "int stack_int_pop(stack_int *s);\n",
    "```"
   ]
  },
  {
   "cell_type": "markdown",
   "metadata": {},
   "source": [
    "## Implementando uma fila a partir de um vetor\n",
    "\n",
    "Supondo que agora vamos implementar a busca em largura em C, nese caso é necessário uma fila, mas filas não estão disponíveis em C. Vamos então, como fizemos para implementar a pilha, simular um comportamento de fila impondo restrições sobre o que podemos fazer com um vetor. Repetiremos a ideia de “parte válida” e “parte inválida”.\n",
    "\n",
    "A diferença das filas é o comportamento FIFO (first in, first out). Para simular esse comportamento, vamos estabelecer que remoções ocorrem em uma ponta e inserções ocorrem na outra ponta da “parte válida”. Fazendo uma analogia com filas físicas, de pessoas, a primeira seria o início da fila e a segunda seria o fim da fila: quem está no início é o próximo a ser atendido, quem acabou de chegar tem que ir para o fim.\n",
    "\n",
    "Vamos estabelecer a ponta esquerda como início e a ponta direita como fim. Mas o único motivo para isso é simplicidade: uma implementação eficiente é possível tanto nesse caso quanto no caso inverso."
   ]
  },
  {
   "cell_type": "markdown",
   "metadata": {},
   "source": [
    "```\n",
    "struct _queue_int {\n",
    "    int capacity;\n",
    "    int *data; // Isso é um vetor. A explicação foi ou será dada em HardSoft.\n",
    "    int begin;\n",
    "    int end;\n",
    "    int size;\n",
    "};\n",
    "```"
   ]
  }
 ],
 "metadata": {
  "language_info": {
   "name": "python"
  }
 },
 "nbformat": 4,
 "nbformat_minor": 2
}
