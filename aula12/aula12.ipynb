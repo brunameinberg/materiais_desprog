{
 "cells": [
  {
   "cell_type": "markdown",
   "metadata": {},
   "source": [
    "# Listas Ligadas"
   ]
  },
  {
   "cell_type": "markdown",
   "metadata": {},
   "source": [
    "*Revisão: alocação estática\n",
    "```\n",
    "int i;\n",
    "```\n",
    "- Declaração aloca um bloco de bytes do tamanho de um int e associa o nome i a esse bloco\n",
    "- Fim da função libera o bloco\n",
    "- Nome só vale dentro da função\n",
    "- Mas o bloco também tem um endereço   que vale tanto dentro quanto fora da função\n",
    "```\n",
    "int i, *p, j, *q\n",
    "```\n",
    "- '&' \"endereço de\"\n",
    "- '*' \"variável apontada por"
   ]
  },
  {
   "cell_type": "markdown",
   "metadata": {},
   "source": [
    "*Revisão alocação dinâmica\n",
    "\n",
    "```\n",
    "int *p;\n",
    "p = malloc(sizeof(int));\n",
    "```\n",
    "      \n",
    "p -> |?|\n",
    "\n",
    "\n",
    "```\n",
    "*p = 5;\n",
    "```\n",
    "      \n",
    "p -> |5|\n",
    "\n",
    "```\n",
    "free(p);\n",
    "```\n",
    "      \n",
    "p -> \n",
    "\n",
    "```\n",
    "free(p);\n",
    "p = NULL\n",
    "```\n",
    "      \n",
    "p -> |/|\n",
    "      "
   ]
  },
  {
   "cell_type": "markdown",
   "metadata": {},
   "source": [
    "Para implementar uma lista ligada, vamos imaginar que ela é um **grafo**. Os **nós** são os clientes e as **arestas** são o **conhecimento sobre quem é o seguinte**. Todo cliente possui esse conhecimento, exceto um, que é o próximo a ser atendido.\n",
    "\n",
    "```\n",
    "struct _node {\n",
    "    int value;\n",
    "    struct _node *next;\n",
    "};\n",
    "\n",
    "typedef struct _node node;\n",
    "```\n",
    "Esse tipo tem dois campos:\n",
    "- um valor, digamos inteiro, que representa o cliente\n",
    "- um apontador para outro **node**, que representa o seguinte"
   ]
  },
  {
   "cell_type": "markdown",
   "metadata": {},
   "source": [
    "### Implementando uma pilha a partir de uma lista ligada\n",
    "**O consumo de memória é proporcional ao tamanho**, logo, o conceito de capacidade não é necessário.\n",
    "Como então deve ser o novo struct de pilha? Sendo nosso objetivo simular comportamento LIFO, vamos manter uma característica da implementação baseada em vetor: remoções e inserções ocorrem em apenas uma das pontas. Esse novo struct, portanto, tem apenas um apontador para essa ponta. Como ela é o topo da pilha, vamos chamar esse apontador de top."
   ]
  },
  {
   "cell_type": "markdown",
   "metadata": {},
   "source": []
  }
 ],
 "metadata": {
  "language_info": {
   "name": "python"
  }
 },
 "nbformat": 4,
 "nbformat_minor": 2
}
