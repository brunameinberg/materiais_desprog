{
 "cells": [
  {
   "cell_type": "markdown",
   "metadata": {},
   "source": [
    "# Comparação de Pilhas e Filas na Prática"
   ]
  },
  {
   "cell_type": "markdown",
   "metadata": {},
   "source": [
    "*Implementação de pilha e fila com **vetor estático**:\n",
    "- Uma unica alocação \n",
    "- Capacidade fixa ao longo do uso\n",
    "\n",
    "*Implementação de pilha e fila com **vetor dinâmico**:\n",
    "- Se o tamanho atinge a capacidade, realoca o vetor com o dobro da capacidade\n",
    "- Se o tamanho cai para um quarto da capacidade, realoca o vetor com a metade da capacidade\n",
    "\n",
    "*Implementação de pilha e fila com **lista ligada**:\n",
    "- Não existe capacidade\n",
    "- Toda operação aloca ou libera nó\n"
   ]
  },
  {
   "cell_type": "markdown",
   "metadata": {},
   "source": [
    "### Qual a melhor implementação?\n",
    "\n",
    "Na Teoria...\n",
    "\n",
    "                melhor caso     caso médio    pior caso\n",
    "vetor estático     O(1)             O(1)       **O(1)** \n",
    "vetor dinâmico     O(1)             O(1)       **O(n)** \n",
    "lista ligada       O(1)             O(1)       **O(1)** "
   ]
  },
  {
   "cell_type": "markdown",
   "metadata": {},
   "source": [
    "Na prática.... <br/>\n",
    "1° vetor estático <br/>\n",
    "2° vetor dinâmico <br/>\n",
    "3° lista ligada <br/>"
   ]
  },
  {
   "cell_type": "markdown",
   "metadata": {},
   "source": [
    "### Memória\n",
    "\n",
    "tamanho médio distante do tamanho máximo <br/>\n",
    "1° lista ligada <br/>\n",
    "2° vetor dinâmico <br/>\n",
    "3° vetor estático <br/>\n",
    "\n",
    "tamanho médio próximo do tamanho máximo <br/>\n",
    "1° vetor estático <br/>\n",
    "2° vetor dinâmico <br/>\n",
    "3° lista ligada <br/>"
   ]
  },
  {
   "cell_type": "markdown",
   "metadata": {},
   "source": [
    "### Segurança contra estouro\n",
    "vetor estático -> **não** <br/>\n",
    "vetor dinâmico-> sim <br/>\n",
    "lista ligada -> sim\n"
   ]
  },
  {
   "cell_type": "markdown",
   "metadata": {},
   "source": [
    "#### Critério 1: complexidade de tempo na teoria\n",
    "\n",
    "Sendo _n_ o tamanho da pilha/fila no momento em que um push/put ou pop/get é feito, qual é a complexidade de qualquer uma dessas quatro operações na implementação com vetor estático (Aula 11) e na implementação com lista ligada (Aula 12)?\n",
    "\n",
    "Considere melhor caso, caso médio e pior caso.\n",
    "\n"
   ]
  },
  {
   "cell_type": "markdown",
   "metadata": {},
   "source": [
    "**Resposta**\n",
    "Nenhuma das quatro operações tem loops ou chamadas recursivas. Logo, todas são O(1). Isso é independente de ser melhor caso, caso médio ou pior caso"
   ]
  },
  {
   "cell_type": "markdown",
   "metadata": {},
   "source": [
    "**A implementação com vetor dinâmico, no entanto, não é tão simples. Como uma operação pode exigir realocação do vetor, a complexidade de pior caso é _O(n)_, pois é necessário copiar todos os elementos do vetor original para o novo vetor.**\n",
    "\n",
    "A complexidade de **melhor caso**, por outro lado, também é _O(1)_.\n",
    "\n",
    "Para **caso médio**:\n",
    "\n",
    "Antes de uma operação _O(n)_, que exige realocação, deve ocorrer uma quantidade linear de operações _O(1)_, que não exigem realocação. Sem essas operações, o vetor não fica cheio ou vazio o suficiente para exigir uma realocação.\n",
    "\n",
    "Ou seja, uma operação _O(n)_ só ocorre depois de operações _O(1)_. Isso significa que a média da complexidade é _O(1)_. As muitas operações baratas compensam as poucas operações caras."
   ]
  },
  {
   "cell_type": "markdown",
   "metadata": {},
   "source": [
    "#### Critério 2: recomendação de tempo na prática\n",
    "\n",
    "Na prática, não estamos interessados em uma única operação. Estamos interessados em uma sequência de várias operações. É isso o que geralmente acontece quando uma estrutura é usada em um algoritmo.\n",
    "\n",
    "Um aspecto importante para analisarmos o consumo de tempo de cada implementação é a quantidade de alocações (malloc), liberações (free) e realocações (realloc) que são feitas ao longo de sequência uma sequência de operações. Esse aspecto é importante porque essas operações são notoriamente caras na prática, então é desejável que você tente reduzir a frequência delas.\n",
    "\n",
    "Outro aspecto importante é a localidade de memória. Quando os blocos usados pela estrutura estão próximos na memória, as operações que usam esses blocos tendem a ser mais rápidas porque se beneficiam de otimizações do sistema operacional, como caching.\n"
   ]
  },
  {
   "cell_type": "markdown",
   "metadata": {},
   "source": [
    "**Resposta**:\n",
    "\n",
    "Considerando os aspectos mencionados acima, a ordem de recomendação é:\n",
    "\n",
    "A implementação com vetor estático faz menos alocações, liberações e realocações que a implementação com vetor dinâmico, que por sua vez faz menos que a implementação com lista ligada.\n",
    "\n",
    "Além disso, vetores são blocos alocados em sequência na memória, enquanto cada nó de uma lista ligada pode estar alocado em uma região diferente.\n",
    "\n",
    "Logo,\n",
    "\n",
    "1° vetor estático <br/>\n",
    "2° vetor dinâmico <br/>\n",
    "3° lista ligada <br/>"
   ]
  },
  {
   "cell_type": "markdown",
   "metadata": {},
   "source": [
    "#### Critério 3: Recomendação de memória na prática\n",
    "\n",
    "À primeira vista, parece razoável afirmar que as implementações com vetor desperdiçam mais memória que a implementação com lista ligada. Afinal, vetores precisam manter alocada a “parte inválida” o tempo todo, enquanto listas ligadas alocam apenas os nós necessários para armazenar a quantidade atual de elementos.\n",
    "\n",
    "No entanto, como frequentemente ocorre em análise de algoritmos, uma resposta melhor é “depende da entrada”."
   ]
  },
  {
   "cell_type": "markdown",
   "metadata": {},
   "source": [
    "Suponha que o tamanho máximo que a estrutura pode atingir é conhecido. Por exemplo, você tem certeza de que a pilha nunca vai passar de cem elementos.\n",
    "\n",
    "Qual seria a ordem de recomendação, em relação a evitar desperdício de memória, quando o tamanho médio da estrutura ao longo de uma sequência de operações é distante desse tamanho máximo?\n",
    "\n",
    "Qual seria a ordem de recomendação, em relação a evitar desperdício de memória, quando o tamanho médio da estrutura ao longo de uma sequência de operações é próximo desse tamanho máximo?"
   ]
  },
  {
   "cell_type": "markdown",
   "metadata": {},
   "source": [
    "**Respota**\n",
    "\n",
    "Além do espaço para o elemento que guarda, um nó de lista ligada ocupa o espaço necessário para o apontador next. Isso significa que a memória ocupada pode ser mais que o dobro do necessário para guardar apenas os elementos.\n",
    "\n",
    "Por incrível que pareça, isso significa que, a menos que a “parte inválida” seja relativamente grande o tempo todo, os vetores tendem a desperdiçar menos.\n",
    "\n",
    "tamanho médio distante do tamanho máximo <br/>\n",
    "1° lista ligada <br/>\n",
    "2° vetor dinâmico <br/>\n",
    "3° vetor estático <br/>\n",
    "\n",
    "tamanho médio próximo do tamanho máximo <br/>\n",
    "1° vetor estático <br/>\n",
    "2° vetor dinâmico <br/>\n",
    "3° lista ligada <br/>\n",
    "\n",
    "\n",
    "Supondo que **não se sabe o tamanho da estrutura**, a implementação com vetor estático não oferece segurança contra estouro de memória, ou seja, contra o caso em que são inseridos mais elementos do que a capacidade comporta. A flexibilidade das outras duas implementações oferece essa segurança."
   ]
  }
 ],
 "metadata": {
  "language_info": {
   "name": "python"
  }
 },
 "nbformat": 4,
 "nbformat_minor": 2
}
